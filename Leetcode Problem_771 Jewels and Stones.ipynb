{
 "cells": [
  {
   "cell_type": "markdown",
   "metadata": {},
   "source": [
    "# Leetcode Problem:771 Jewels and Stones"
   ]
  },
  {
   "cell_type": "markdown",
   "metadata": {},
   "source": [
    "## Problem Description"
   ]
  },
  {
   "cell_type": "markdown",
   "metadata": {},
   "source": [
    "You're given strings J representing the types of stones that are jewels, and S representing the stones you have.  \n",
    "Each character in S is a type of stone you have.  You want to know how many of the stones you have are also jewels.\n",
    "\n",
    "The letters in J are guaranteed distinct, and all characters in J and S are letters. \n",
    "Letters are case sensitive, so \"a\" is considered a different type of stone from \"A\".\n",
    "\n",
    "Example 1:\n",
    "Input: J = \"aA\", S = \"aAAbbbb\"\n",
    "Output: 3\n",
    "\n",
    "Example 2:\n",
    "Input: J = \"z\", S = \"ZZ\"\n",
    "Output: 0"
   ]
  },
  {
   "cell_type": "markdown",
   "metadata": {},
   "source": [
    "## Solution"
   ]
  },
  {
   "cell_type": "code",
   "execution_count": 3,
   "metadata": {},
   "outputs": [],
   "source": [
    "def numJewelsInStones(J, S):\n",
    "    \"\"\"\n",
    "    :type J: str\n",
    "    :type S: str\n",
    "    :rtype: int\n",
    "    \"\"\"\n",
    "    ans=0\n",
    "    for i in S:\n",
    "        if i in J:\n",
    "            ans+=1\n",
    "    return(ans)"
   ]
  },
  {
   "cell_type": "markdown",
   "metadata": {},
   "source": [
    "## Test (Solution)"
   ]
  },
  {
   "cell_type": "code",
   "execution_count": 6,
   "metadata": {},
   "outputs": [
    {
     "data": {
      "text/plain": [
       "3"
      ]
     },
     "execution_count": 6,
     "metadata": {},
     "output_type": "execute_result"
    }
   ],
   "source": [
    "numJewelsInStones('aA' , 'aAAbbbb')"
   ]
  },
  {
   "cell_type": "code",
   "execution_count": 7,
   "metadata": {},
   "outputs": [
    {
     "data": {
      "text/plain": [
       "0"
      ]
     },
     "execution_count": 7,
     "metadata": {},
     "output_type": "execute_result"
    }
   ],
   "source": [
    "numJewelsInStones('z' , 'ZZ')"
   ]
  },
  {
   "cell_type": "code",
   "execution_count": 8,
   "metadata": {},
   "outputs": [
    {
     "data": {
      "text/plain": [
       "3"
      ]
     },
     "execution_count": 8,
     "metadata": {},
     "output_type": "execute_result"
    }
   ],
   "source": [
    "numJewelsInStones('abc' , 'AaBbCc')"
   ]
  }
 ],
 "metadata": {
  "kernelspec": {
   "display_name": "Python 3",
   "language": "python",
   "name": "python3"
  },
  "language_info": {
   "codemirror_mode": {
    "name": "ipython",
    "version": 3
   },
   "file_extension": ".py",
   "mimetype": "text/x-python",
   "name": "python",
   "nbconvert_exporter": "python",
   "pygments_lexer": "ipython3",
   "version": "3.7.0"
  }
 },
 "nbformat": 4,
 "nbformat_minor": 2
}
